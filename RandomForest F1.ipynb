{
 "cells": [
  {
   "cell_type": "markdown",
   "metadata": {},
   "source": [
    "# Save"
   ]
  },
  {
   "cell_type": "code",
   "execution_count": 81,
   "metadata": {},
   "outputs": [
    {
     "ename": "ValueError",
     "evalue": "ctypes objects containing pointers cannot be pickled",
     "output_type": "error",
     "traceback": [
      "\u001b[1;31m---------------------------------------------------------------------------\u001b[0m",
      "\u001b[1;31mValueError\u001b[0m                                Traceback (most recent call last)",
      "\u001b[1;32m<ipython-input-81-edf038076cd6>\u001b[0m in \u001b[0;36m<module>\u001b[1;34m()\u001b[0m\n\u001b[0;32m      1\u001b[0m \u001b[1;32mimport\u001b[0m \u001b[0mdill\u001b[0m\u001b[1;33m\u001b[0m\u001b[0m\n\u001b[1;32m----> 2\u001b[1;33m \u001b[0mdill\u001b[0m\u001b[1;33m.\u001b[0m\u001b[0mdump_session\u001b[0m\u001b[1;33m(\u001b[0m\u001b[1;34m'notebook_env.db'\u001b[0m\u001b[1;33m)\u001b[0m\u001b[1;33m\u001b[0m\u001b[0m\n\u001b[0m",
      "\u001b[1;32m~\\Anaconda3\\lib\\site-packages\\dill\\_dill.py\u001b[0m in \u001b[0;36mdump_session\u001b[1;34m(filename, main, byref)\u001b[0m\n\u001b[0;32m    387\u001b[0m         \u001b[0mpickler\u001b[0m\u001b[1;33m.\u001b[0m\u001b[0m_recurse\u001b[0m \u001b[1;33m=\u001b[0m \u001b[1;32mFalse\u001b[0m \u001b[1;31m# disable pickling recursion for globals\u001b[0m\u001b[1;33m\u001b[0m\u001b[0m\n\u001b[0;32m    388\u001b[0m         \u001b[0mpickler\u001b[0m\u001b[1;33m.\u001b[0m\u001b[0m_session\u001b[0m \u001b[1;33m=\u001b[0m \u001b[1;32mTrue\u001b[0m  \u001b[1;31m# is best indicator of when pickling a session\u001b[0m\u001b[1;33m\u001b[0m\u001b[0m\n\u001b[1;32m--> 389\u001b[1;33m         \u001b[0mpickler\u001b[0m\u001b[1;33m.\u001b[0m\u001b[0mdump\u001b[0m\u001b[1;33m(\u001b[0m\u001b[0mmain\u001b[0m\u001b[1;33m)\u001b[0m\u001b[1;33m\u001b[0m\u001b[0m\n\u001b[0m\u001b[0;32m    390\u001b[0m     \u001b[1;32mfinally\u001b[0m\u001b[1;33m:\u001b[0m\u001b[1;33m\u001b[0m\u001b[0m\n\u001b[0;32m    391\u001b[0m         \u001b[0mf\u001b[0m\u001b[1;33m.\u001b[0m\u001b[0mclose\u001b[0m\u001b[1;33m(\u001b[0m\u001b[1;33m)\u001b[0m\u001b[1;33m\u001b[0m\u001b[0m\n",
      "\u001b[1;32m~\\Anaconda3\\lib\\pickle.py\u001b[0m in \u001b[0;36mdump\u001b[1;34m(self, obj)\u001b[0m\n\u001b[0;32m    407\u001b[0m         \u001b[1;32mif\u001b[0m \u001b[0mself\u001b[0m\u001b[1;33m.\u001b[0m\u001b[0mproto\u001b[0m \u001b[1;33m>=\u001b[0m \u001b[1;36m4\u001b[0m\u001b[1;33m:\u001b[0m\u001b[1;33m\u001b[0m\u001b[0m\n\u001b[0;32m    408\u001b[0m             \u001b[0mself\u001b[0m\u001b[1;33m.\u001b[0m\u001b[0mframer\u001b[0m\u001b[1;33m.\u001b[0m\u001b[0mstart_framing\u001b[0m\u001b[1;33m(\u001b[0m\u001b[1;33m)\u001b[0m\u001b[1;33m\u001b[0m\u001b[0m\n\u001b[1;32m--> 409\u001b[1;33m         \u001b[0mself\u001b[0m\u001b[1;33m.\u001b[0m\u001b[0msave\u001b[0m\u001b[1;33m(\u001b[0m\u001b[0mobj\u001b[0m\u001b[1;33m)\u001b[0m\u001b[1;33m\u001b[0m\u001b[0m\n\u001b[0m\u001b[0;32m    410\u001b[0m         \u001b[0mself\u001b[0m\u001b[1;33m.\u001b[0m\u001b[0mwrite\u001b[0m\u001b[1;33m(\u001b[0m\u001b[0mSTOP\u001b[0m\u001b[1;33m)\u001b[0m\u001b[1;33m\u001b[0m\u001b[0m\n\u001b[0;32m    411\u001b[0m         \u001b[0mself\u001b[0m\u001b[1;33m.\u001b[0m\u001b[0mframer\u001b[0m\u001b[1;33m.\u001b[0m\u001b[0mend_framing\u001b[0m\u001b[1;33m(\u001b[0m\u001b[1;33m)\u001b[0m\u001b[1;33m\u001b[0m\u001b[0m\n",
      "\u001b[1;32m~\\Anaconda3\\lib\\pickle.py\u001b[0m in \u001b[0;36msave\u001b[1;34m(self, obj, save_persistent_id)\u001b[0m\n\u001b[0;32m    474\u001b[0m         \u001b[0mf\u001b[0m \u001b[1;33m=\u001b[0m \u001b[0mself\u001b[0m\u001b[1;33m.\u001b[0m\u001b[0mdispatch\u001b[0m\u001b[1;33m.\u001b[0m\u001b[0mget\u001b[0m\u001b[1;33m(\u001b[0m\u001b[0mt\u001b[0m\u001b[1;33m)\u001b[0m\u001b[1;33m\u001b[0m\u001b[0m\n\u001b[0;32m    475\u001b[0m         \u001b[1;32mif\u001b[0m \u001b[0mf\u001b[0m \u001b[1;32mis\u001b[0m \u001b[1;32mnot\u001b[0m \u001b[1;32mNone\u001b[0m\u001b[1;33m:\u001b[0m\u001b[1;33m\u001b[0m\u001b[0m\n\u001b[1;32m--> 476\u001b[1;33m             \u001b[0mf\u001b[0m\u001b[1;33m(\u001b[0m\u001b[0mself\u001b[0m\u001b[1;33m,\u001b[0m \u001b[0mobj\u001b[0m\u001b[1;33m)\u001b[0m \u001b[1;31m# Call unbound method with explicit self\u001b[0m\u001b[1;33m\u001b[0m\u001b[0m\n\u001b[0m\u001b[0;32m    477\u001b[0m             \u001b[1;32mreturn\u001b[0m\u001b[1;33m\u001b[0m\u001b[0m\n\u001b[0;32m    478\u001b[0m \u001b[1;33m\u001b[0m\u001b[0m\n",
      "\u001b[1;32m~\\Anaconda3\\lib\\site-packages\\dill\\_dill.py\u001b[0m in \u001b[0;36msave_module\u001b[1;34m(pickler, obj)\u001b[0m\n\u001b[0;32m   1258\u001b[0m                 + [\"__builtins__\", \"__loader__\"]]\n\u001b[0;32m   1259\u001b[0m             pickler.save_reduce(_import_module, (obj.__name__,), obj=obj,\n\u001b[1;32m-> 1260\u001b[1;33m                                 state=_main_dict)\n\u001b[0m\u001b[0;32m   1261\u001b[0m             \u001b[0mlog\u001b[0m\u001b[1;33m.\u001b[0m\u001b[0minfo\u001b[0m\u001b[1;33m(\u001b[0m\u001b[1;34m\"# M1\"\u001b[0m\u001b[1;33m)\u001b[0m\u001b[1;33m\u001b[0m\u001b[0m\n\u001b[0;32m   1262\u001b[0m         \u001b[1;32melse\u001b[0m\u001b[1;33m:\u001b[0m\u001b[1;33m\u001b[0m\u001b[0m\n",
      "\u001b[1;32m~\\Anaconda3\\lib\\pickle.py\u001b[0m in \u001b[0;36msave_reduce\u001b[1;34m(self, func, args, state, listitems, dictitems, obj)\u001b[0m\n\u001b[0;32m    632\u001b[0m \u001b[1;33m\u001b[0m\u001b[0m\n\u001b[0;32m    633\u001b[0m         \u001b[1;32mif\u001b[0m \u001b[0mstate\u001b[0m \u001b[1;32mis\u001b[0m \u001b[1;32mnot\u001b[0m \u001b[1;32mNone\u001b[0m\u001b[1;33m:\u001b[0m\u001b[1;33m\u001b[0m\u001b[0m\n\u001b[1;32m--> 634\u001b[1;33m             \u001b[0msave\u001b[0m\u001b[1;33m(\u001b[0m\u001b[0mstate\u001b[0m\u001b[1;33m)\u001b[0m\u001b[1;33m\u001b[0m\u001b[0m\n\u001b[0m\u001b[0;32m    635\u001b[0m             \u001b[0mwrite\u001b[0m\u001b[1;33m(\u001b[0m\u001b[0mBUILD\u001b[0m\u001b[1;33m)\u001b[0m\u001b[1;33m\u001b[0m\u001b[0m\n\u001b[0;32m    636\u001b[0m \u001b[1;33m\u001b[0m\u001b[0m\n",
      "\u001b[1;32m~\\Anaconda3\\lib\\pickle.py\u001b[0m in \u001b[0;36msave\u001b[1;34m(self, obj, save_persistent_id)\u001b[0m\n\u001b[0;32m    474\u001b[0m         \u001b[0mf\u001b[0m \u001b[1;33m=\u001b[0m \u001b[0mself\u001b[0m\u001b[1;33m.\u001b[0m\u001b[0mdispatch\u001b[0m\u001b[1;33m.\u001b[0m\u001b[0mget\u001b[0m\u001b[1;33m(\u001b[0m\u001b[0mt\u001b[0m\u001b[1;33m)\u001b[0m\u001b[1;33m\u001b[0m\u001b[0m\n\u001b[0;32m    475\u001b[0m         \u001b[1;32mif\u001b[0m \u001b[0mf\u001b[0m \u001b[1;32mis\u001b[0m \u001b[1;32mnot\u001b[0m \u001b[1;32mNone\u001b[0m\u001b[1;33m:\u001b[0m\u001b[1;33m\u001b[0m\u001b[0m\n\u001b[1;32m--> 476\u001b[1;33m             \u001b[0mf\u001b[0m\u001b[1;33m(\u001b[0m\u001b[0mself\u001b[0m\u001b[1;33m,\u001b[0m \u001b[0mobj\u001b[0m\u001b[1;33m)\u001b[0m \u001b[1;31m# Call unbound method with explicit self\u001b[0m\u001b[1;33m\u001b[0m\u001b[0m\n\u001b[0m\u001b[0;32m    477\u001b[0m             \u001b[1;32mreturn\u001b[0m\u001b[1;33m\u001b[0m\u001b[0m\n\u001b[0;32m    478\u001b[0m \u001b[1;33m\u001b[0m\u001b[0m\n",
      "\u001b[1;32m~\\Anaconda3\\lib\\site-packages\\dill\\_dill.py\u001b[0m in \u001b[0;36msave_module_dict\u001b[1;34m(pickler, obj)\u001b[0m\n\u001b[0;32m    891\u001b[0m             \u001b[1;31m# we only care about session the first pass thru\u001b[0m\u001b[1;33m\u001b[0m\u001b[1;33m\u001b[0m\u001b[0m\n\u001b[0;32m    892\u001b[0m             \u001b[0mpickler\u001b[0m\u001b[1;33m.\u001b[0m\u001b[0m_session\u001b[0m \u001b[1;33m=\u001b[0m \u001b[1;32mFalse\u001b[0m\u001b[1;33m\u001b[0m\u001b[0m\n\u001b[1;32m--> 893\u001b[1;33m         \u001b[0mStockPickler\u001b[0m\u001b[1;33m.\u001b[0m\u001b[0msave_dict\u001b[0m\u001b[1;33m(\u001b[0m\u001b[0mpickler\u001b[0m\u001b[1;33m,\u001b[0m \u001b[0mobj\u001b[0m\u001b[1;33m)\u001b[0m\u001b[1;33m\u001b[0m\u001b[0m\n\u001b[0m\u001b[0;32m    894\u001b[0m         \u001b[0mlog\u001b[0m\u001b[1;33m.\u001b[0m\u001b[0minfo\u001b[0m\u001b[1;33m(\u001b[0m\u001b[1;34m\"# D2\"\u001b[0m\u001b[1;33m)\u001b[0m\u001b[1;33m\u001b[0m\u001b[0m\n\u001b[0;32m    895\u001b[0m     \u001b[1;32mreturn\u001b[0m\u001b[1;33m\u001b[0m\u001b[0m\n",
      "\u001b[1;32m~\\Anaconda3\\lib\\pickle.py\u001b[0m in \u001b[0;36msave_dict\u001b[1;34m(self, obj)\u001b[0m\n\u001b[0;32m    819\u001b[0m \u001b[1;33m\u001b[0m\u001b[0m\n\u001b[0;32m    820\u001b[0m         \u001b[0mself\u001b[0m\u001b[1;33m.\u001b[0m\u001b[0mmemoize\u001b[0m\u001b[1;33m(\u001b[0m\u001b[0mobj\u001b[0m\u001b[1;33m)\u001b[0m\u001b[1;33m\u001b[0m\u001b[0m\n\u001b[1;32m--> 821\u001b[1;33m         \u001b[0mself\u001b[0m\u001b[1;33m.\u001b[0m\u001b[0m_batch_setitems\u001b[0m\u001b[1;33m(\u001b[0m\u001b[0mobj\u001b[0m\u001b[1;33m.\u001b[0m\u001b[0mitems\u001b[0m\u001b[1;33m(\u001b[0m\u001b[1;33m)\u001b[0m\u001b[1;33m)\u001b[0m\u001b[1;33m\u001b[0m\u001b[0m\n\u001b[0m\u001b[0;32m    822\u001b[0m \u001b[1;33m\u001b[0m\u001b[0m\n\u001b[0;32m    823\u001b[0m     \u001b[0mdispatch\u001b[0m\u001b[1;33m[\u001b[0m\u001b[0mdict\u001b[0m\u001b[1;33m]\u001b[0m \u001b[1;33m=\u001b[0m \u001b[0msave_dict\u001b[0m\u001b[1;33m\u001b[0m\u001b[0m\n",
      "\u001b[1;32m~\\Anaconda3\\lib\\pickle.py\u001b[0m in \u001b[0;36m_batch_setitems\u001b[1;34m(self, items)\u001b[0m\n\u001b[0;32m    845\u001b[0m                 \u001b[1;32mfor\u001b[0m \u001b[0mk\u001b[0m\u001b[1;33m,\u001b[0m \u001b[0mv\u001b[0m \u001b[1;32min\u001b[0m \u001b[0mtmp\u001b[0m\u001b[1;33m:\u001b[0m\u001b[1;33m\u001b[0m\u001b[0m\n\u001b[0;32m    846\u001b[0m                     \u001b[0msave\u001b[0m\u001b[1;33m(\u001b[0m\u001b[0mk\u001b[0m\u001b[1;33m)\u001b[0m\u001b[1;33m\u001b[0m\u001b[0m\n\u001b[1;32m--> 847\u001b[1;33m                     \u001b[0msave\u001b[0m\u001b[1;33m(\u001b[0m\u001b[0mv\u001b[0m\u001b[1;33m)\u001b[0m\u001b[1;33m\u001b[0m\u001b[0m\n\u001b[0m\u001b[0;32m    848\u001b[0m                 \u001b[0mwrite\u001b[0m\u001b[1;33m(\u001b[0m\u001b[0mSETITEMS\u001b[0m\u001b[1;33m)\u001b[0m\u001b[1;33m\u001b[0m\u001b[0m\n\u001b[0;32m    849\u001b[0m             \u001b[1;32melif\u001b[0m \u001b[0mn\u001b[0m\u001b[1;33m:\u001b[0m\u001b[1;33m\u001b[0m\u001b[0m\n",
      "\u001b[1;32m~\\Anaconda3\\lib\\pickle.py\u001b[0m in \u001b[0;36msave\u001b[1;34m(self, obj, save_persistent_id)\u001b[0m\n\u001b[0;32m    519\u001b[0m \u001b[1;33m\u001b[0m\u001b[0m\n\u001b[0;32m    520\u001b[0m         \u001b[1;31m# Save the reduce() output and finally memoize the object\u001b[0m\u001b[1;33m\u001b[0m\u001b[1;33m\u001b[0m\u001b[0m\n\u001b[1;32m--> 521\u001b[1;33m         \u001b[0mself\u001b[0m\u001b[1;33m.\u001b[0m\u001b[0msave_reduce\u001b[0m\u001b[1;33m(\u001b[0m\u001b[0mobj\u001b[0m\u001b[1;33m=\u001b[0m\u001b[0mobj\u001b[0m\u001b[1;33m,\u001b[0m \u001b[1;33m*\u001b[0m\u001b[0mrv\u001b[0m\u001b[1;33m)\u001b[0m\u001b[1;33m\u001b[0m\u001b[0m\n\u001b[0m\u001b[0;32m    522\u001b[0m \u001b[1;33m\u001b[0m\u001b[0m\n\u001b[0;32m    523\u001b[0m     \u001b[1;32mdef\u001b[0m \u001b[0mpersistent_id\u001b[0m\u001b[1;33m(\u001b[0m\u001b[0mself\u001b[0m\u001b[1;33m,\u001b[0m \u001b[0mobj\u001b[0m\u001b[1;33m)\u001b[0m\u001b[1;33m:\u001b[0m\u001b[1;33m\u001b[0m\u001b[0m\n",
      "\u001b[1;32m~\\Anaconda3\\lib\\pickle.py\u001b[0m in \u001b[0;36msave_reduce\u001b[1;34m(self, func, args, state, listitems, dictitems, obj)\u001b[0m\n\u001b[0;32m    632\u001b[0m \u001b[1;33m\u001b[0m\u001b[0m\n\u001b[0;32m    633\u001b[0m         \u001b[1;32mif\u001b[0m \u001b[0mstate\u001b[0m \u001b[1;32mis\u001b[0m \u001b[1;32mnot\u001b[0m \u001b[1;32mNone\u001b[0m\u001b[1;33m:\u001b[0m\u001b[1;33m\u001b[0m\u001b[0m\n\u001b[1;32m--> 634\u001b[1;33m             \u001b[0msave\u001b[0m\u001b[1;33m(\u001b[0m\u001b[0mstate\u001b[0m\u001b[1;33m)\u001b[0m\u001b[1;33m\u001b[0m\u001b[0m\n\u001b[0m\u001b[0;32m    635\u001b[0m             \u001b[0mwrite\u001b[0m\u001b[1;33m(\u001b[0m\u001b[0mBUILD\u001b[0m\u001b[1;33m)\u001b[0m\u001b[1;33m\u001b[0m\u001b[0m\n\u001b[0;32m    636\u001b[0m \u001b[1;33m\u001b[0m\u001b[0m\n",
      "\u001b[1;32m~\\Anaconda3\\lib\\pickle.py\u001b[0m in \u001b[0;36msave\u001b[1;34m(self, obj, save_persistent_id)\u001b[0m\n\u001b[0;32m    474\u001b[0m         \u001b[0mf\u001b[0m \u001b[1;33m=\u001b[0m \u001b[0mself\u001b[0m\u001b[1;33m.\u001b[0m\u001b[0mdispatch\u001b[0m\u001b[1;33m.\u001b[0m\u001b[0mget\u001b[0m\u001b[1;33m(\u001b[0m\u001b[0mt\u001b[0m\u001b[1;33m)\u001b[0m\u001b[1;33m\u001b[0m\u001b[0m\n\u001b[0;32m    475\u001b[0m         \u001b[1;32mif\u001b[0m \u001b[0mf\u001b[0m \u001b[1;32mis\u001b[0m \u001b[1;32mnot\u001b[0m \u001b[1;32mNone\u001b[0m\u001b[1;33m:\u001b[0m\u001b[1;33m\u001b[0m\u001b[0m\n\u001b[1;32m--> 476\u001b[1;33m             \u001b[0mf\u001b[0m\u001b[1;33m(\u001b[0m\u001b[0mself\u001b[0m\u001b[1;33m,\u001b[0m \u001b[0mobj\u001b[0m\u001b[1;33m)\u001b[0m \u001b[1;31m# Call unbound method with explicit self\u001b[0m\u001b[1;33m\u001b[0m\u001b[0m\n\u001b[0m\u001b[0;32m    477\u001b[0m             \u001b[1;32mreturn\u001b[0m\u001b[1;33m\u001b[0m\u001b[0m\n\u001b[0;32m    478\u001b[0m \u001b[1;33m\u001b[0m\u001b[0m\n",
      "\u001b[1;32m~\\Anaconda3\\lib\\site-packages\\dill\\_dill.py\u001b[0m in \u001b[0;36msave_module_dict\u001b[1;34m(pickler, obj)\u001b[0m\n\u001b[0;32m    891\u001b[0m             \u001b[1;31m# we only care about session the first pass thru\u001b[0m\u001b[1;33m\u001b[0m\u001b[1;33m\u001b[0m\u001b[0m\n\u001b[0;32m    892\u001b[0m             \u001b[0mpickler\u001b[0m\u001b[1;33m.\u001b[0m\u001b[0m_session\u001b[0m \u001b[1;33m=\u001b[0m \u001b[1;32mFalse\u001b[0m\u001b[1;33m\u001b[0m\u001b[0m\n\u001b[1;32m--> 893\u001b[1;33m         \u001b[0mStockPickler\u001b[0m\u001b[1;33m.\u001b[0m\u001b[0msave_dict\u001b[0m\u001b[1;33m(\u001b[0m\u001b[0mpickler\u001b[0m\u001b[1;33m,\u001b[0m \u001b[0mobj\u001b[0m\u001b[1;33m)\u001b[0m\u001b[1;33m\u001b[0m\u001b[0m\n\u001b[0m\u001b[0;32m    894\u001b[0m         \u001b[0mlog\u001b[0m\u001b[1;33m.\u001b[0m\u001b[0minfo\u001b[0m\u001b[1;33m(\u001b[0m\u001b[1;34m\"# D2\"\u001b[0m\u001b[1;33m)\u001b[0m\u001b[1;33m\u001b[0m\u001b[0m\n\u001b[0;32m    895\u001b[0m     \u001b[1;32mreturn\u001b[0m\u001b[1;33m\u001b[0m\u001b[0m\n",
      "\u001b[1;32m~\\Anaconda3\\lib\\pickle.py\u001b[0m in \u001b[0;36msave_dict\u001b[1;34m(self, obj)\u001b[0m\n\u001b[0;32m    819\u001b[0m \u001b[1;33m\u001b[0m\u001b[0m\n\u001b[0;32m    820\u001b[0m         \u001b[0mself\u001b[0m\u001b[1;33m.\u001b[0m\u001b[0mmemoize\u001b[0m\u001b[1;33m(\u001b[0m\u001b[0mobj\u001b[0m\u001b[1;33m)\u001b[0m\u001b[1;33m\u001b[0m\u001b[0m\n\u001b[1;32m--> 821\u001b[1;33m         \u001b[0mself\u001b[0m\u001b[1;33m.\u001b[0m\u001b[0m_batch_setitems\u001b[0m\u001b[1;33m(\u001b[0m\u001b[0mobj\u001b[0m\u001b[1;33m.\u001b[0m\u001b[0mitems\u001b[0m\u001b[1;33m(\u001b[0m\u001b[1;33m)\u001b[0m\u001b[1;33m)\u001b[0m\u001b[1;33m\u001b[0m\u001b[0m\n\u001b[0m\u001b[0;32m    822\u001b[0m \u001b[1;33m\u001b[0m\u001b[0m\n\u001b[0;32m    823\u001b[0m     \u001b[0mdispatch\u001b[0m\u001b[1;33m[\u001b[0m\u001b[0mdict\u001b[0m\u001b[1;33m]\u001b[0m \u001b[1;33m=\u001b[0m \u001b[0msave_dict\u001b[0m\u001b[1;33m\u001b[0m\u001b[0m\n",
      "\u001b[1;32m~\\Anaconda3\\lib\\pickle.py\u001b[0m in \u001b[0;36m_batch_setitems\u001b[1;34m(self, items)\u001b[0m\n\u001b[0;32m    845\u001b[0m                 \u001b[1;32mfor\u001b[0m \u001b[0mk\u001b[0m\u001b[1;33m,\u001b[0m \u001b[0mv\u001b[0m \u001b[1;32min\u001b[0m \u001b[0mtmp\u001b[0m\u001b[1;33m:\u001b[0m\u001b[1;33m\u001b[0m\u001b[0m\n\u001b[0;32m    846\u001b[0m                     \u001b[0msave\u001b[0m\u001b[1;33m(\u001b[0m\u001b[0mk\u001b[0m\u001b[1;33m)\u001b[0m\u001b[1;33m\u001b[0m\u001b[0m\n\u001b[1;32m--> 847\u001b[1;33m                     \u001b[0msave\u001b[0m\u001b[1;33m(\u001b[0m\u001b[0mv\u001b[0m\u001b[1;33m)\u001b[0m\u001b[1;33m\u001b[0m\u001b[0m\n\u001b[0m\u001b[0;32m    848\u001b[0m                 \u001b[0mwrite\u001b[0m\u001b[1;33m(\u001b[0m\u001b[0mSETITEMS\u001b[0m\u001b[1;33m)\u001b[0m\u001b[1;33m\u001b[0m\u001b[0m\n\u001b[0;32m    849\u001b[0m             \u001b[1;32melif\u001b[0m \u001b[0mn\u001b[0m\u001b[1;33m:\u001b[0m\u001b[1;33m\u001b[0m\u001b[0m\n",
      "\u001b[1;32m~\\Anaconda3\\lib\\pickle.py\u001b[0m in \u001b[0;36msave\u001b[1;34m(self, obj, save_persistent_id)\u001b[0m\n\u001b[0;32m    494\u001b[0m             \u001b[0mreduce\u001b[0m \u001b[1;33m=\u001b[0m \u001b[0mgetattr\u001b[0m\u001b[1;33m(\u001b[0m\u001b[0mobj\u001b[0m\u001b[1;33m,\u001b[0m \u001b[1;34m\"__reduce_ex__\"\u001b[0m\u001b[1;33m,\u001b[0m \u001b[1;32mNone\u001b[0m\u001b[1;33m)\u001b[0m\u001b[1;33m\u001b[0m\u001b[0m\n\u001b[0;32m    495\u001b[0m             \u001b[1;32mif\u001b[0m \u001b[0mreduce\u001b[0m \u001b[1;32mis\u001b[0m \u001b[1;32mnot\u001b[0m \u001b[1;32mNone\u001b[0m\u001b[1;33m:\u001b[0m\u001b[1;33m\u001b[0m\u001b[0m\n\u001b[1;32m--> 496\u001b[1;33m                 \u001b[0mrv\u001b[0m \u001b[1;33m=\u001b[0m \u001b[0mreduce\u001b[0m\u001b[1;33m(\u001b[0m\u001b[0mself\u001b[0m\u001b[1;33m.\u001b[0m\u001b[0mproto\u001b[0m\u001b[1;33m)\u001b[0m\u001b[1;33m\u001b[0m\u001b[0m\n\u001b[0m\u001b[0;32m    497\u001b[0m             \u001b[1;32melse\u001b[0m\u001b[1;33m:\u001b[0m\u001b[1;33m\u001b[0m\u001b[0m\n\u001b[0;32m    498\u001b[0m                 \u001b[0mreduce\u001b[0m \u001b[1;33m=\u001b[0m \u001b[0mgetattr\u001b[0m\u001b[1;33m(\u001b[0m\u001b[0mobj\u001b[0m\u001b[1;33m,\u001b[0m \u001b[1;34m\"__reduce__\"\u001b[0m\u001b[1;33m,\u001b[0m \u001b[1;32mNone\u001b[0m\u001b[1;33m)\u001b[0m\u001b[1;33m\u001b[0m\u001b[0m\n",
      "\u001b[1;31mValueError\u001b[0m: ctypes objects containing pointers cannot be pickled"
     ]
    }
   ],
   "source": [
    "import dill\n",
    "dill.dump_session('notebook_env.db')"
   ]
  },
  {
   "cell_type": "markdown",
   "metadata": {},
   "source": [
    "# Load"
   ]
  },
  {
   "cell_type": "code",
   "execution_count": 1,
   "metadata": {
    "collapsed": true
   },
   "outputs": [],
   "source": [
    "import dill\n",
    "dill.load_session('notebook_env.db')"
   ]
  },
  {
   "cell_type": "code",
   "execution_count": 2,
   "metadata": {},
   "outputs": [],
   "source": [
    "import xgboost as xgb\n",
    "from sklearn.svm import SVC\n",
    "from sklearn.neighbors import KNeighborsClassifier as knn\n",
    "from sklearn.ensemble import AdaBoostClassifier\n",
    "from sklearn.tree import DecisionTreeClassifier\n",
    "from sklearn.ensemble import RandomForestClassifier\n",
    "\n",
    "from imblearn.over_sampling import SMOTE\n",
    "from sklearn import preprocessing\n",
    "from sklearn.neighbors import LocalOutlierFactor\n",
    "from sklearn.pipeline import Pipeline\n",
    "\n",
    "from sklearn.model_selection import train_test_split\n",
    "from sklearn.model_selection import cross_validate\n",
    "from sklearn.model_selection import cross_val_predict\n",
    "from sklearn.model_selection import GridSearchCV\n",
    "from sklearn.metrics import roc_auc_score\n",
    "from sklearn.metrics import accuracy_score\n",
    "from sklearn.metrics import confusion_matrix\n",
    "from sklearn.metrics import f1_score\n",
    "\n",
    "from hyperopt import fmin, hp, tpe, Trials\n",
    "\n",
    "import pandas as pd\n",
    "import numpy as np\n",
    "import matplotlib.pyplot as plt\n",
    "from scipy import stats\n",
    "\n",
    "import copy\n",
    "import time\n",
    "import datetime"
   ]
  },
  {
   "cell_type": "code",
   "execution_count": 103,
   "metadata": {},
   "outputs": [
    {
     "name": "stderr",
     "output_type": "stream",
     "text": [
      "C:\\Users\\ONTARIO\\Anaconda3\\lib\\site-packages\\IPython\\core\\interactiveshell.py:2785: DtypeWarning: Columns (20,36,38,39,40,41,42) have mixed types. Specify dtype option on import or set low_memory=False.\n",
      "  interactivity=interactivity, compiler=compiler, result=result)\n"
     ]
    },
    {
     "name": "stdout",
     "output_type": "stream",
     "text": [
      "Index(['Patient_ID', 'Age_at_Exam', 'sBP', 'sBP_Date', 'BMI', 'BMI_Date',\n",
      "       'LDL', 'LDL_Date', 'HDL', 'HDL_Date', 'A1c', 'A1c_Date', 'TG',\n",
      "       'TG_Date', 'FBS', 'FBS_Date', 'FBS>DM', 'Total_Cholesterol',\n",
      "       'Total_Cholesterol_Lab_Date', 'Diabetes', 'DM_OnsetDate', 'Depression',\n",
      "       'Depression_OnsetDate', 'HTN', 'HTN_OnsetDate', 'OA', 'OA_OnsetDate',\n",
      "       'COPD', 'COPD_Date', 'All_Medications', 'Hypertension_Medications',\n",
      "       'Hypertension_Medications_First_Instance', 'Corticosteroids',\n",
      "       'Corticosteroids_first_instance', 'Sex', 'leastO(A1c_Date)',\n",
      "       'leastO(DM_OnsetDate)', 'leastO(FBS_Date)', 'LeastOfAll', 'A1C_BEF_DM',\n",
      "       'FBS_BEF_DM', 'DM_Onset_Revised', 'DM_Onset_Revised_1YrPrior'],\n",
      "      dtype='object')\n"
     ]
    }
   ],
   "source": [
    "#data = pd.read_csv(\"Diabetes study file cleaned.csv\", header = \"infer\")\n",
    "#data7 = pd.read_csv(\"Diabetes Study File 10K Dec 7 2017 Flattened.csv\", header = \"infer\")\n",
    "#data14 = pd.read_csv(\"Diabetes Study File 10K Dec 14 2017 Flattened.csv\", header = \"infer\")\n",
    "\n",
    "dataAll = pd.read_csv(\"Diabetes Study File Nov 28 2017.csv\", header = \"infer\")\n",
    "\n",
    "print (dataAll.columns)"
   ]
  },
  {
   "cell_type": "code",
   "execution_count": 123,
   "metadata": {},
   "outputs": [],
   "source": [
    "#data = data7.append(data14).drop_duplicates()\n",
    "data = dataAll\n",
    "data = data[[\"Age_at_Exam\",\"sBP\",\"BMI\",\"LDL\",\"HDL\",\"A1c\", \"FBS>DM\",\"TG\",\"FBS\",\"Total_Cholesterol\",\"Depression\",\"HTN\",\"OA\",\"COPD\",\n",
    "            \"Corticosteroids\",\"Sex\",\"Hypertension_Medications\",\"Diabetes\"]]\n",
    "\n",
    "data = data[(data[\"FBS>DM\"]==0)|(data[\"Diabetes\"]==0)]\n",
    "data = data[(data [\"FBS\"] <= 6.9) & (data[\"FBS\"] >= 5.6)&(data[\"A1c\"] < 6.5)]\n",
    "\n",
    "#Creating a dummy variable for sex\n",
    "data [\"Sex\"] = data[\"Sex\"] == \"Male\"\n",
    "#data [\"DIABETES\"] = data [\"DIABETES\"] == \"Yes\"\n",
    "#data [\"HDL\"] = data[\"Total_Cholesterol\"]-data[\"LDL\"]-data[\"TG\"]/5\n",
    "data [\"Corticosteroids\"] = data [\"Corticosteroids\"].notnull()\n",
    "data = data.reset_index(drop = True)"
   ]
  },
  {
   "cell_type": "markdown",
   "metadata": {},
   "source": [
    "# Flatten Hypertension Medication into Drug Type features"
   ]
  },
  {
   "cell_type": "code",
   "execution_count": 124,
   "metadata": {},
   "outputs": [
    {
     "name": "stderr",
     "output_type": "stream",
     "text": [
      "C:\\Users\\ONTARIO\\Anaconda3\\lib\\site-packages\\ipykernel_launcher.py:9: SettingWithCopyWarning: \n",
      "A value is trying to be set on a copy of a slice from a DataFrame\n",
      "\n",
      "See the caveats in the documentation: http://pandas.pydata.org/pandas-docs/stable/indexing.html#indexing-view-versus-copy\n",
      "  if __name__ == '__main__':\n"
     ]
    },
    {
     "name": "stdout",
     "output_type": "stream",
     "text": [
      "       Age_at_Exam    sBP   BMI  LDL  HDL  A1c   TG  FBS  Total_Cholesterol  \\\n",
      "0             69.0  140.0  26.0  3.3  1.0  5.9  1.7  6.2                5.2   \n",
      "1             52.0  116.0  66.0  2.9  1.7  6.4  0.8  5.6                5.0   \n",
      "2             63.0  122.0  28.0  2.1  1.3  5.4  1.1  5.7                3.8   \n",
      "3             61.0  132.0  41.0  5.4  1.5  6.0  1.2  5.7                7.4   \n",
      "4             73.0  148.0  50.3  1.5  1.1  5.4  1.7  6.5                3.4   \n",
      "5             62.0  140.0  25.8  2.4  1.3  5.8  1.3  5.8                4.3   \n",
      "6             76.0  120.0  36.0  3.4  1.2  6.1  1.4  5.9                5.3   \n",
      "7             38.0  107.0  31.7  2.4  0.8  5.8  1.1  5.8                3.7   \n",
      "8             67.0  116.0  21.9  2.8  1.9  6.2  2.0  6.1                5.5   \n",
      "9             76.0  132.0  28.0  2.1  0.9  6.0  1.9  5.7                3.9   \n",
      "10            70.0  132.0  26.0  1.6  1.1  6.0  1.6  6.1                3.5   \n",
      "11            72.0  125.0  26.0  1.1  1.0  6.0  0.9  6.3                2.5   \n",
      "12            65.0  126.0  31.0  1.7  1.1  5.4  2.3  5.8                3.8   \n",
      "13            64.0  141.0  34.0  2.9  1.4  5.6  1.5  6.8                5.0   \n",
      "14            70.0  136.0  26.0  1.6  1.1  6.0  1.6  6.4                3.5   \n",
      "15            71.0  136.0  25.0  1.7  1.2  5.7  1.6  6.3                3.6   \n",
      "16            70.0  172.0  26.0  1.6  1.1  5.9  1.6  6.1                3.5   \n",
      "17            34.0  110.0  25.8  2.2  1.1  5.7  0.6  5.6                3.6   \n",
      "18            62.0  141.0  31.0  1.8  1.1  5.6  2.1  5.7                3.9   \n",
      "19            62.0  130.0  26.1  2.4  1.3  5.8  1.3  5.8                4.3   \n",
      "20            63.0  122.0  32.0  2.6  1.3  5.9  1.2  6.5                4.5   \n",
      "21            61.0  110.0  29.0  3.3  1.6  5.6  0.9  6.2                5.3   \n",
      "22            63.0  143.0  32.0  2.6  1.3  5.9  1.2  6.5                4.5   \n",
      "23            59.0  145.0  33.0  3.8  1.3  5.4  0.9  5.6                5.4   \n",
      "24            72.0  114.0  20.0  2.6  1.4  6.0  0.6  6.0                4.3   \n",
      "25            74.0  126.0  49.0  1.5  1.0  5.2  1.9  6.0                3.4   \n",
      "26            64.0  136.0  34.0  2.9  1.4  5.6  1.5  6.8                5.0   \n",
      "27            56.0  142.0  34.0  3.5  1.5  5.5  1.3  6.5                5.6   \n",
      "28            63.0  133.0  30.9  1.7  NaN  6.1  0.8  5.6                NaN   \n",
      "29            74.0  149.0  21.0  3.0  1.5  6.1  1.0  6.5                5.0   \n",
      "...            ...    ...   ...  ...  ...  ...  ...  ...                ...   \n",
      "63845         54.0  134.0  39.6  3.8  1.0  6.0  2.1  6.5                5.7   \n",
      "63846         53.0  122.0  42.0  4.8  1.4  6.2  1.9  5.7                7.0   \n",
      "63847         38.0  140.0  27.8  2.3  1.1  6.2  1.1  6.2                3.8   \n",
      "63848         78.0  117.0  28.8  2.6  1.1  6.2  1.7  5.7                4.5   \n",
      "63849         55.0  130.0  34.2  3.3  1.7  6.2  0.6  6.4                5.3   \n",
      "63850         67.0  125.0  35.5  4.3  1.4  6.1  1.3  5.6                6.2   \n",
      "63851         45.0  129.0  31.5  3.0  1.5  5.7  0.8  6.7                4.8   \n",
      "63852         70.0  168.0  31.5  3.7  1.1  6.4  2.5  6.1                5.9   \n",
      "63853         39.0  116.0  30.5  2.7  1.4  6.3  1.0  5.8                4.5   \n",
      "63854         46.0  130.0  32.9  3.9  1.4  5.8  2.6  5.7                6.4   \n",
      "63855         39.0  113.0  30.5  2.7  1.4  6.3  1.0  5.8                4.5   \n",
      "63856         49.0  141.0  30.4  4.8  1.2  6.1  2.3  5.8                6.7   \n",
      "63857         64.0  140.0  37.7  3.2  1.5  5.9  0.8  6.0                5.1   \n",
      "63858         64.0  160.0  33.6  5.1  1.4  6.3  1.2  5.8                7.0   \n",
      "63859         43.0  124.0  33.4  4.2  1.1  5.8  2.4  6.1                6.3   \n",
      "63860         54.0  137.0  39.6  3.8  1.0  6.0  2.1  6.5                5.7   \n",
      "63861         81.0  125.0  24.2  3.8  1.2  6.1  0.6  6.1                5.3   \n",
      "63862         39.0  148.0  27.8  3.6  0.9  6.2  2.8  6.5                5.8   \n",
      "63863         53.0  135.0  31.9  2.8  1.8  6.0  0.6  5.8                4.9   \n",
      "63864         56.0  144.0  32.0  3.4  2.0  6.1  0.6  6.3                5.7   \n",
      "63865         52.0  123.0  41.3  4.9  1.4  6.3  2.1  5.9                7.2   \n",
      "63866         45.0  120.0  27.2  3.9  1.1  6.0  1.6  5.8                5.7   \n",
      "63867         45.0  140.0  27.6  4.1  1.1  6.1  2.0  6.4                6.1   \n",
      "63868         62.0  112.0  27.8  2.8  1.2  5.9  1.7  6.4                4.8   \n",
      "63869         64.0  160.0  37.7  3.2  1.5  5.9  0.8  6.0                5.1   \n",
      "63870         56.0  110.0  37.0  2.1  1.1  6.4  2.3  5.8                4.2   \n",
      "63871         66.0  121.0  34.6  4.7  1.3  6.4  0.9  5.8                6.4   \n",
      "63872         66.0  141.0  34.8  4.7  1.3  6.4  0.9  5.8                6.4   \n",
      "63873         55.0  130.0  34.2  3.3  1.7  6.2  0.6  6.4                5.3   \n",
      "63874         68.0  122.0  31.0  3.8  1.9  6.2  2.6  6.5                6.9   \n",
      "\n",
      "       Depression  ...    Corticosteroids    Sex  Diabetes  Ace Inhibitor  \\\n",
      "0               0  ...              False   True         0              1   \n",
      "1               0  ...              False   True         0              0   \n",
      "2               0  ...              False   True         0              0   \n",
      "3               0  ...              False  False         0              0   \n",
      "4               0  ...              False  False         0              0   \n",
      "5               0  ...              False  False         0              0   \n",
      "6               0  ...              False  False         0              0   \n",
      "7               0  ...               True  False         0              0   \n",
      "8               0  ...               True  False         0              0   \n",
      "9               0  ...              False   True         0              0   \n",
      "10              0  ...              False   True         0              1   \n",
      "11              0  ...              False   True         0              1   \n",
      "12              0  ...              False  False         0              0   \n",
      "13              0  ...              False  False         0              0   \n",
      "14              0  ...              False   True         0              1   \n",
      "15              0  ...              False   True         0              1   \n",
      "16              0  ...              False   True         0              1   \n",
      "17              0  ...               True  False         0              0   \n",
      "18              0  ...              False  False         0              0   \n",
      "19              0  ...              False  False         0              0   \n",
      "20              0  ...              False  False         0              0   \n",
      "21              0  ...              False  False         0              0   \n",
      "22              0  ...              False  False         0              0   \n",
      "23              0  ...              False   True         0              0   \n",
      "24              0  ...              False  False         0              1   \n",
      "25              0  ...              False  False         0              0   \n",
      "26              0  ...              False  False         0              0   \n",
      "27              1  ...               True  False         0              0   \n",
      "28              0  ...              False   True         0              1   \n",
      "29              0  ...              False  False         0              1   \n",
      "...           ...  ...                ...    ...       ...            ...   \n",
      "63845           0  ...               True  False         1              1   \n",
      "63846           1  ...              False  False         1              0   \n",
      "63847           0  ...              False   True         1              0   \n",
      "63848           0  ...              False  False         1              1   \n",
      "63849           0  ...              False  False         1              1   \n",
      "63850           0  ...              False  False         1              1   \n",
      "63851           0  ...               True  False         1              1   \n",
      "63852           0  ...               True   True         1              0   \n",
      "63853           1  ...              False  False         1              1   \n",
      "63854           1  ...              False  False         1              1   \n",
      "63855           1  ...              False  False         1              1   \n",
      "63856           1  ...              False  False         1              0   \n",
      "63857           0  ...              False  False         1              0   \n",
      "63858           0  ...              False  False         1              1   \n",
      "63859           0  ...              False  False         1              1   \n",
      "63860           0  ...               True  False         1              1   \n",
      "63861           0  ...               True   True         1              0   \n",
      "63862           0  ...              False   True         1              0   \n",
      "63863           0  ...              False  False         1              1   \n",
      "63864           0  ...              False  False         1              1   \n",
      "63865           1  ...              False  False         1              0   \n",
      "63866           0  ...              False   True         1              0   \n",
      "63867           0  ...              False   True         1              0   \n",
      "63868           1  ...               True   True         1              1   \n",
      "63869           0  ...              False  False         1              0   \n",
      "63870           1  ...               True   True         1              0   \n",
      "63871           0  ...              False  False         1              1   \n",
      "63872           0  ...              False  False         1              1   \n",
      "63873           0  ...              False  False         1              1   \n",
      "63874           1  ...              False  False         1              0   \n",
      "\n",
      "       Alpha Blocker  ARB  Beta Blocker  Calcium Channel Blocker  Diuretic  \\\n",
      "0                  0    1             1                        1         1   \n",
      "1                  0    0             0                        0         0   \n",
      "2                  0    0             0                        0         0   \n",
      "3                  0    0             0                        0         0   \n",
      "4                  0    1             0                        1         1   \n",
      "5                  0    0             0                        0         1   \n",
      "6                  0    0             1                        0         1   \n",
      "7                  0    0             0                        0         0   \n",
      "8                  0    0             0                        0         0   \n",
      "9                  0    1             1                        0         1   \n",
      "10                 0    1             1                        1         1   \n",
      "11                 0    1             1                        1         1   \n",
      "12                 0    0             0                        0         0   \n",
      "13                 0    0             0                        0         0   \n",
      "14                 0    1             1                        1         1   \n",
      "15                 0    1             1                        1         1   \n",
      "16                 0    1             1                        1         1   \n",
      "17                 0    0             0                        0         0   \n",
      "18                 0    0             0                        0         0   \n",
      "19                 0    0             0                        0         1   \n",
      "20                 0    0             0                        0         0   \n",
      "21                 0    0             0                        0         0   \n",
      "22                 0    0             0                        0         0   \n",
      "23                 0    0             1                        1         0   \n",
      "24                 0    1             1                        0         1   \n",
      "25                 0    1             0                        1         1   \n",
      "26                 0    0             0                        0         0   \n",
      "27                 0    1             0                        1         0   \n",
      "28                 0    0             1                        0         0   \n",
      "29                 0    1             1                        0         1   \n",
      "...              ...  ...           ...                      ...       ...   \n",
      "63845              0    0             0                        0         1   \n",
      "63846              0    1             0                        0         1   \n",
      "63847              0    0             0                        1         1   \n",
      "63848              0    1             1                        0         0   \n",
      "63849              0    0             0                        1         1   \n",
      "63850              0    0             1                        1         1   \n",
      "63851              0    0             0                        0         1   \n",
      "63852              0    1             0                        1         1   \n",
      "63853              0    1             0                        1         0   \n",
      "63854              0    0             1                        1         0   \n",
      "63855              0    1             0                        1         0   \n",
      "63856              0    1             1                        1         1   \n",
      "63857              0    1             1                        0         1   \n",
      "63858              0    0             1                        1         1   \n",
      "63859              0    0             0                        0         0   \n",
      "63860              0    0             0                        0         1   \n",
      "63861              0    0             1                        0         0   \n",
      "63862              0    0             0                        1         1   \n",
      "63863              0    0             0                        1         1   \n",
      "63864              0    0             0                        1         1   \n",
      "63865              0    1             0                        0         1   \n",
      "63866              0    0             0                        0         0   \n",
      "63867              0    0             0                        0         0   \n",
      "63868              0    0             0                        1         1   \n",
      "63869              0    1             1                        0         1   \n",
      "63870              0    0             0                        0         0   \n",
      "63871              0    0             1                        1         1   \n",
      "63872              0    0             1                        1         1   \n",
      "63873              0    0             0                        1         1   \n",
      "63874              0    1             0                        1         0   \n",
      "\n",
      "       Other  \n",
      "0          0  \n",
      "1          0  \n",
      "2          0  \n",
      "3          0  \n",
      "4          0  \n",
      "5          0  \n",
      "6          0  \n",
      "7          0  \n",
      "8          0  \n",
      "9          0  \n",
      "10         0  \n",
      "11         0  \n",
      "12         0  \n",
      "13         0  \n",
      "14         0  \n",
      "15         0  \n",
      "16         0  \n",
      "17         0  \n",
      "18         0  \n",
      "19         0  \n",
      "20         0  \n",
      "21         0  \n",
      "22         0  \n",
      "23         0  \n",
      "24         0  \n",
      "25         0  \n",
      "26         0  \n",
      "27         0  \n",
      "28         0  \n",
      "29         0  \n",
      "...      ...  \n",
      "63845      0  \n",
      "63846      0  \n",
      "63847      0  \n",
      "63848      0  \n",
      "63849      0  \n",
      "63850      0  \n",
      "63851      0  \n",
      "63852      0  \n",
      "63853      0  \n",
      "63854      0  \n",
      "63855      0  \n",
      "63856      0  \n",
      "63857      0  \n",
      "63858      0  \n",
      "63859      0  \n",
      "63860      0  \n",
      "63861      0  \n",
      "63862      0  \n",
      "63863      0  \n",
      "63864      0  \n",
      "63865      0  \n",
      "63866      0  \n",
      "63867      0  \n",
      "63868      0  \n",
      "63869      0  \n",
      "63870      0  \n",
      "63871      0  \n",
      "63872      0  \n",
      "63873      0  \n",
      "63874      0  \n",
      "\n",
      "[63875 rows x 23 columns]\n"
     ]
    }
   ],
   "source": [
    "medication_types = pd.read_csv(\"Hypertension Medication Type List.csv\", header = \"infer\")\n",
    "for i in range(len(medication_types)):\n",
    "    data[medication_types.iloc[i,1]] = 0\n",
    "        \n",
    "for i in range (len(data)):\n",
    "    for j in range (len(medication_types)):\n",
    "        if (type(data.loc[:,\"Hypertension_Medications\"][i])== str):\n",
    "            if (medication_types.iloc[j,0] in data.loc[:,\"Hypertension_Medications\"][int (i)]):\n",
    "                data.loc[:,medication_types.iloc[j,1]][i] = 1\n",
    "\n",
    "data = data.drop ([\"Hypertension_Medications\", \"FBS>DM\"], axis = 1)\n",
    "\n",
    "print (data)"
   ]
  },
  {
   "cell_type": "markdown",
   "metadata": {},
   "source": [
    "# Save flattened features to save time for future use"
   ]
  },
  {
   "cell_type": "code",
   "execution_count": 126,
   "metadata": {},
   "outputs": [],
   "source": [
    "data.to_csv(\"Diabetes Study File Nov 28 2017 - Flattened.csv\")"
   ]
  },
  {
   "cell_type": "markdown",
   "metadata": {},
   "source": [
    "# Read flattened features"
   ]
  },
  {
   "cell_type": "code",
   "execution_count": 3,
   "metadata": {},
   "outputs": [],
   "source": [
    "data = pd.read_csv(\"Diabetes Study File Nov 28 2017 - Flattened.csv\", header = \"infer\")"
   ]
  },
  {
   "cell_type": "markdown",
   "metadata": {},
   "source": [
    "# Handlin Missing Data"
   ]
  },
  {
   "cell_type": "code",
   "execution_count": 4,
   "metadata": {},
   "outputs": [
    {
     "name": "stdout",
     "output_type": "stream",
     "text": [
      "Unnamed: 0                    0\n",
      "Age_at_Exam                   0\n",
      "sBP                          63\n",
      "BMI                           0\n",
      "LDL                         220\n",
      "HDL                         440\n",
      "A1c                           0\n",
      "TG                          470\n",
      "FBS                           0\n",
      "Total_Cholesterol          1259\n",
      "Depression                    0\n",
      "HTN                           0\n",
      "OA                            0\n",
      "COPD                          0\n",
      "Corticosteroids               0\n",
      "Sex                           0\n",
      "Diabetes                      0\n",
      "Ace Inhibitor                 0\n",
      "Alpha Blocker                 0\n",
      "ARB                           0\n",
      "Beta Blocker                  0\n",
      "Calcium Channel Blocker       0\n",
      "Diuretic                      0\n",
      "Other                         0\n",
      "dtype: int64\n"
     ]
    }
   ],
   "source": [
    "print (data.isnull().sum())"
   ]
  },
  {
   "cell_type": "code",
   "execution_count": 5,
   "metadata": {},
   "outputs": [],
   "source": [
    "data = data.fillna(data.mean())"
   ]
  },
  {
   "cell_type": "markdown",
   "metadata": {},
   "source": [
    "# Outlier detection using LOF"
   ]
  },
  {
   "cell_type": "code",
   "execution_count": 6,
   "metadata": {},
   "outputs": [
    {
     "name": "stdout",
     "output_type": "stream",
     "text": [
      "(60681, 24)\n"
     ]
    }
   ],
   "source": [
    "lof = LocalOutlierFactor (n_neighbors = 1, contamination = 0.05, metric = \"manhattan\")\n",
    "outliers = lof.fit_predict(data.loc[:,data.columns != \"DIABETES\"])\n",
    "\n",
    "outlierDF = pd.DataFrame(outliers)\n",
    "data = data[outlierDF[0]==1]\n",
    "print (data.shape)"
   ]
  },
  {
   "cell_type": "markdown",
   "metadata": {},
   "source": [
    "# Check for zero-variance"
   ]
  },
  {
   "cell_type": "code",
   "execution_count": 7,
   "metadata": {},
   "outputs": [
    {
     "name": "stdout",
     "output_type": "stream",
     "text": [
      "                   Feature  Percent_unique  Freq_Ratio\n",
      "0               Unnamed: 0      100.000000    1.000000\n",
      "0              Age_at_Exam        0.120301    1.016452\n",
      "0                      sBP        0.263674    1.194864\n",
      "0                      BMI        0.861884    1.025343\n",
      "0                      LDL        0.130189    1.042500\n",
      "0                      HDL        0.075806    1.055618\n",
      "0                      A1c        0.052735    1.009721\n",
      "0                       TG        0.192812    1.051882\n",
      "0                      FBS        0.023071    1.055133\n",
      "0        Total_Cholesterol        0.159852    1.026938\n",
      "0               Depression        0.003296    3.574519\n",
      "0                      HTN        0.003296    1.976602\n",
      "0                       OA        0.003296    2.157180\n",
      "0                     COPD        0.003296    9.219097\n",
      "0          Corticosteroids        0.003296    2.663648\n",
      "0                      Sex        0.003296    1.079113\n",
      "0                 Diabetes        0.003296    5.510138\n",
      "0            Ace Inhibitor        0.003296    1.551766\n",
      "0            Alpha Blocker        0.003296  143.135392\n",
      "0                      ARB        0.003296    3.614525\n",
      "0             Beta Blocker        0.003296    2.446609\n",
      "0  Calcium Channel Blocker        0.003296    2.696680\n",
      "0                 Diuretic        0.003296    1.456920\n",
      "0                    Other        0.003296  108.730561\n"
     ]
    }
   ],
   "source": [
    "varianceDF = pd.DataFrame(columns = [\"Feature\", \"Percent_unique\", \"Freq_Ratio\"])\n",
    "for i in data:\n",
    "    value, count = np.unique(data[i], return_counts = True)\n",
    "    count = np.flip(np.sort(count), axis = 0)\n",
    "    tempDF = pd.DataFrame(columns = [\"Feature\", \"Percent_unique\", \"Freq_Ratio\"])\n",
    "    tempDF.loc[0] = [i, len(value)/len(data[i])*100.0, count[0]/count[1]]\n",
    "    varianceDF = varianceDF.append(tempDF)\n",
    "    \n",
    "print (varianceDF)\n",
    "# get rid fo all with FBS > DM of 1"
   ]
  },
  {
   "cell_type": "markdown",
   "metadata": {},
   "source": [
    "# Dropping zero-variance features"
   ]
  },
  {
   "cell_type": "code",
   "execution_count": 8,
   "metadata": {},
   "outputs": [],
   "source": [
    "#Features dropped for having too high of a frequency ratio between first and second most common items\n",
    "data = data.drop([\"COPD\",\"Alpha Blocker\",\"Other\"], axis = 1)"
   ]
  },
  {
   "cell_type": "code",
   "execution_count": 9,
   "metadata": {},
   "outputs": [
    {
     "name": "stdout",
     "output_type": "stream",
     "text": [
      "Highly correlated features: [['LDL', 'Total_Cholesterol']]\n"
     ]
    }
   ],
   "source": [
    "corr_matrix = data.corr().abs()\n",
    "\n",
    "correlated_featres = []\n",
    "for column in corr_matrix:\n",
    "    tempList = corr_matrix.index[corr_matrix[column] > 0.8].tolist()\n",
    "    if (len(tempList)>1 and tempList not in correlated_featres):\n",
    "        correlated_featres.append(tempList)\n",
    "print (\"Highly correlated features:\", correlated_featres)"
   ]
  },
  {
   "cell_type": "code",
   "execution_count": 10,
   "metadata": {},
   "outputs": [],
   "source": [
    "#Dropping Total_Cholesterol because it is the total of HDL, LDL, and TG/5, however HDL and TG are not highly correlated features\n",
    "data = data.drop ([\"Total_Cholesterol\"], axis = 1)"
   ]
  },
  {
   "cell_type": "code",
   "execution_count": 11,
   "metadata": {},
   "outputs": [
    {
     "name": "stdout",
     "output_type": "stream",
     "text": [
      "Linearly correlated features: []\n"
     ]
    }
   ],
   "source": [
    "linear_combo = np.linalg.qr(data)[1]\n",
    "linear_combo = linear_combo.sum(axis = 1)\n",
    "\n",
    "bad_features = []\n",
    "\n",
    "for i in range(len(data.columns.values)):\n",
    "    if abs(linear_combo[i]) < 1.e-10:\n",
    "        bad_features.append(data.columns.values[i])\n",
    "\n",
    "print(\"Linearly correlated features:\", bad_features)"
   ]
  },
  {
   "cell_type": "markdown",
   "metadata": {},
   "source": [
    "# Normalize data between 0 and 1"
   ]
  },
  {
   "cell_type": "code",
   "execution_count": 12,
   "metadata": {},
   "outputs": [
    {
     "name": "stderr",
     "output_type": "stream",
     "text": [
      "C:\\Users\\ONTARIO\\Anaconda3\\lib\\site-packages\\sklearn\\utils\\validation.py:590: DataConversionWarning: Data with input dtype object was converted to float64 by MinMaxScaler.\n",
      "  warnings.warn(msg, DataConversionWarning)\n"
     ]
    }
   ],
   "source": [
    "data_values = data.values\n",
    "dataColumm = data.columns.values\n",
    "min_max_scaler = preprocessing.MinMaxScaler()\n",
    "data = pd.DataFrame(min_max_scaler.fit_transform(data_values), columns = dataColumm)"
   ]
  },
  {
   "cell_type": "markdown",
   "metadata": {},
   "source": [
    "# Imbalanced dataset"
   ]
  },
  {
   "cell_type": "code",
   "execution_count": 13,
   "metadata": {},
   "outputs": [
    {
     "name": "stdout",
     "output_type": "stream",
     "text": [
      "0.0    51360\n",
      "1.0     9321\n",
      "Name: Diabetes, dtype: int64\n"
     ]
    }
   ],
   "source": [
    "print (data[\"Diabetes\"].value_counts())"
   ]
  },
  {
   "cell_type": "markdown",
   "metadata": {},
   "source": [
    "# Split data into testing and training sets"
   ]
  },
  {
   "cell_type": "code",
   "execution_count": 14,
   "metadata": {},
   "outputs": [],
   "source": [
    "X = data.loc[:,data.columns != \"Diabetes\"]\n",
    "Y = data[\"Diabetes\"]\n",
    "\n",
    "X_train, X_test, y_train, y_test = train_test_split (X,Y,test_size = 0.3)"
   ]
  },
  {
   "cell_type": "code",
   "execution_count": 15,
   "metadata": {},
   "outputs": [],
   "source": [
    "tpe_trials = Trials()\n",
    "tpe_algo = tpe.suggest\n",
    "\n",
    "run_counter = 0"
   ]
  },
  {
   "cell_type": "code",
   "execution_count": 16,
   "metadata": {},
   "outputs": [],
   "source": [
    "def RFHyperoptLoss (params):\n",
    "    params[\"n_estimators\"] = round(params[\"n_estimators\"])\n",
    "    #params[\"max_depth\"] = round(params[\"max_depth\"])\n",
    "\n",
    "    model = RandomForestClassifier(**params)\n",
    "    \n",
    "    y_pred = cross_val_predict (model, X_train, y_train.values.ravel(), cv = 10)\n",
    "    \n",
    "    out = f1_score(y_train.values.ravel(), y_pred)\n",
    "    \n",
    "    global run_counter, start_time, hyperopt_iterations\n",
    "    run_counter += 1\n",
    "    time_elapsed = time.time()-start_time\n",
    "    print (\"running iteration:\",run_counter,\n",
    "           \"|time elapsed:\", datetime.timedelta(seconds = round(time_elapsed)),\n",
    "           \"|estimated completion time:\", time.ctime(time_elapsed/float(run_counter)*hyperopt_iterations+start_time),\n",
    "           end = \"\\r\")\n",
    "    \n",
    "    return 1-out\n",
    "\n",
    "def RFHyperopt (iterations, params):\n",
    "    global run_counter\n",
    "    run_counter += 1\n",
    "\n",
    "    tpe_best = fmin(fn = RFHyperoptLoss, space = params, algo = tpe_algo, trials= tpe_trials, max_evals = iterations)\n",
    "\n",
    "    print (tpe_best)\n",
    "    return tpe_best"
   ]
  },
  {
   "cell_type": "markdown",
   "metadata": {},
   "source": [
    "# Define the parameter space and run Hyperopt training"
   ]
  },
  {
   "cell_type": "code",
   "execution_count": 17,
   "metadata": {},
   "outputs": [
    {
     "name": "stdout",
     "output_type": "stream",
     "text": [
      "running iteration: 14 |time elapsed: 0:14:29 |estimated completion time: Tue Dec 18 22:06:43 2018\r"
     ]
    },
    {
     "name": "stderr",
     "output_type": "stream",
     "text": [
      "C:\\Users\\ONTARIO\\Anaconda3\\lib\\site-packages\\sklearn\\metrics\\classification.py:1143: UndefinedMetricWarning: F-score is ill-defined and being set to 0.0 due to no predicted samples.\n",
      "  'precision', 'predicted', average, warn_for)\n"
     ]
    },
    {
     "name": "stdout",
     "output_type": "stream",
     "text": [
      "running iteration: 113 |time elapsed: 2:28:17 |estimated completion time: Wed Dec 19 07:21:06 2018\r"
     ]
    },
    {
     "name": "stderr",
     "output_type": "stream",
     "text": [
      "C:\\Users\\ONTARIO\\Anaconda3\\lib\\site-packages\\sklearn\\metrics\\classification.py:1143: UndefinedMetricWarning: F-score is ill-defined and being set to 0.0 due to no predicted samples.\n",
      "  'precision', 'predicted', average, warn_for)\n"
     ]
    },
    {
     "name": "stdout",
     "output_type": "stream",
     "text": [
      "running iteration: 274 |time elapsed: 5:30:03 |estimated completion time: Wed Dec 19 03:45:37 2018\r"
     ]
    },
    {
     "name": "stderr",
     "output_type": "stream",
     "text": [
      "C:\\Users\\ONTARIO\\Anaconda3\\lib\\site-packages\\sklearn\\metrics\\classification.py:1143: UndefinedMetricWarning: F-score is ill-defined and being set to 0.0 due to no predicted samples.\n",
      "  'precision', 'predicted', average, warn_for)\n"
     ]
    },
    {
     "name": "stdout",
     "output_type": "stream",
     "text": [
      "running iteration: 957 |time elapsed: 19:46:15 |estimated completion time: Wed Dec 19 04:55:39 2018\r"
     ]
    },
    {
     "name": "stderr",
     "output_type": "stream",
     "text": [
      "C:\\Users\\ONTARIO\\Anaconda3\\lib\\site-packages\\sklearn\\metrics\\classification.py:1143: UndefinedMetricWarning: F-score is ill-defined and being set to 0.0 due to no predicted samples.\n",
      "  'precision', 'predicted', average, warn_for)\n"
     ]
    },
    {
     "name": "stdout",
     "output_type": "stream",
     "text": [
      "running iteration: 1436 |time elapsed: 1 day, 6:08:05 |estimated completion time: Wed Dec 19 05:34:45 2018\r"
     ]
    },
    {
     "name": "stderr",
     "output_type": "stream",
     "text": [
      "C:\\Users\\ONTARIO\\Anaconda3\\lib\\site-packages\\sklearn\\metrics\\classification.py:1143: UndefinedMetricWarning: F-score is ill-defined and being set to 0.0 due to no predicted samples.\n",
      "  'precision', 'predicted', average, warn_for)\n"
     ]
    },
    {
     "name": "stdout",
     "output_type": "stream",
     "text": [
      "{'max_dept': 18.0, 'n_estimators': 559.0}day, 17:41:06 |estimated completion time: Wed Dec 19 05:16:23 2018\n"
     ]
    }
   ],
   "source": [
    "start_time = time.time()\n",
    "\n",
    "#param_space = {\"n_estimators\": hp.quniform(\"n_estimators\",10,100, 1),\n",
    "#                \"max_depth\": hp.quniform(\"max_dept\", 1,15, 1),\n",
    "#                \"learning_rate\": hp.loguniform(\"learning_rate\",0.01,1)}\n",
    "\n",
    "param_space = {\"n_estimators\": hp.quniform(\"n_estimators\",100,1000, 1),\n",
    "                \"max_depth\": hp.quniform(\"max_dept\", 1,30, 1),\n",
    "                \"n_jobs\": -1,}\n",
    "hyperopt_iterations = 2000\n",
    "\n",
    "best_params = RFHyperopt(hyperopt_iterations, param_space)"
   ]
  },
  {
   "cell_type": "markdown",
   "metadata": {},
   "source": [
    "# Rearrange hyperparameters for trials into table form"
   ]
  },
  {
   "cell_type": "code",
   "execution_count": 19,
   "metadata": {},
   "outputs": [
    {
     "name": "stdout",
     "output_type": "stream",
     "text": [
      "            F1  iteration  max_dept  n_estimators\n",
      "0     1.000000          0      18.0         559.0\n",
      "1     1.000000          1      12.0         979.0\n",
      "2     1.000000          2      25.0         104.0\n",
      "3     1.000000          3      14.0         780.0\n",
      "4     1.000000          4       9.0         355.0\n",
      "5     1.000000          5      25.0         300.0\n",
      "6     0.599406          6       2.0         614.0\n",
      "7     1.000000          7      29.0         359.0\n",
      "8     0.999924          8       6.0         507.0\n",
      "9     1.000000          9      21.0         360.0\n",
      "10    1.000000         10      17.0         719.0\n",
      "11    1.000000         11      12.0         406.0\n",
      "12    1.000000         12      20.0         426.0\n",
      "13    0.000000         13       1.0         277.0\n",
      "14    1.000000         14      16.0         456.0\n",
      "15    0.999848         15       3.0         873.0\n",
      "16    1.000000         16      14.0         906.0\n",
      "17    1.000000         17      14.0         319.0\n",
      "18    0.999848         18       3.0         896.0\n",
      "19    1.000000         19      17.0         685.0\n",
      "20    1.000000         20      20.0         150.0\n",
      "21    0.999924         21       7.0         566.0\n",
      "22    1.000000         22      23.0         681.0\n",
      "23    1.000000         23      28.0         176.0\n",
      "24    1.000000         24      21.0         197.0\n",
      "25    1.000000         25      26.0         652.0\n",
      "26    0.999924         26      29.0         221.0\n",
      "27    0.999924         27      10.0         507.0\n",
      "28    1.000000         28      23.0         764.0\n",
      "29    1.000000         29      26.0         617.0\n",
      "...        ...        ...       ...           ...\n",
      "1970  1.000000       1970       8.0         298.0\n",
      "1971  0.999924       1971       9.0         315.0\n",
      "1972  0.999924       1972       8.0         330.0\n",
      "1973  0.999924       1973       8.0         325.0\n",
      "1974  0.999924       1974       8.0         343.0\n",
      "1975  0.999924       1975       8.0         328.0\n",
      "1976  0.999924       1976       7.0         349.0\n",
      "1977  1.000000       1977       9.0         311.0\n",
      "1978  1.000000       1978       9.0         349.0\n",
      "1979  1.000000       1979       8.0         294.0\n",
      "1980  0.999924       1980       7.0         330.0\n",
      "1981  1.000000       1981       9.0         340.0\n",
      "1982  1.000000       1982       8.0         312.0\n",
      "1983  1.000000       1983      10.0         309.0\n",
      "1984  0.999924       1984       9.0         297.0\n",
      "1985  0.999924       1985       7.0         278.0\n",
      "1986  1.000000       1986       8.0         268.0\n",
      "1987  0.999924       1987       8.0         350.0\n",
      "1988  0.999924       1988       7.0         253.0\n",
      "1989  1.000000       1989       9.0         575.0\n",
      "1990  0.999924       1990       7.0         561.0\n",
      "1991  1.000000       1991      10.0         287.0\n",
      "1992  1.000000       1992       9.0         562.0\n",
      "1993  1.000000       1993       8.0         608.0\n",
      "1994  0.999924       1994       7.0         554.0\n",
      "1995  1.000000       1995       9.0         592.0\n",
      "1996  0.999924       1996       6.0         593.0\n",
      "1997  0.999924       1997       8.0         575.0\n",
      "1998  0.999924       1998       7.0         609.0\n",
      "1999  1.000000       1999       9.0         609.0\n",
      "\n",
      "[2000 rows x 4 columns]\n",
      "{'max_dept': 18.0, 'n_estimators': 559.0}\n",
      "1.0\n"
     ]
    }
   ],
   "source": [
    "#tpe_results = pd.DataFrame({\"accuracy\":[1-x[\"loss\"] for x in tpe_trials.results],\n",
    "#                            \"iteration\":tpe_trials.idxs_vals[0][\"learning_rate\"],\n",
    "#                            \"learning_rate\":tpe_trials.idxs_vals[1][\"learning_rate\"],\n",
    "#                            \"max_dept\":tpe_trials.idxs_vals[1][\"max_dept\"],\n",
    "#                            \"n_estimators\":tpe_trials.idxs_vals[1][\"n_estimators\"],\n",
    "#                            \"min_child_weight\":tpe_trials.idxs_vals[1][\"min_child_weight\"],\n",
    "#                            \"subsample\":tpe_trials.idxs_vals[1][\"subsample\"],\n",
    "#                            \"gamma\":tpe_trials.idxs_vals[1][\"gamma\"],\n",
    "#                            \"colsample_bytree\":tpe_trials.idxs_vals[1][\"colsample_bytree\"],})\n",
    "\n",
    "tpe_results = pd.DataFrame({\"F1\":[1-x[\"loss\"] for x in tpe_trials.results],\n",
    "                            \"iteration\":[x[\"tid\"] for x in tpe_trials.trials],\n",
    "                            \"max_dept\":[x[\"misc\"][\"vals\"][\"max_dept\"][0] for x in tpe_trials.trials],\n",
    "                            \"n_estimators\":[x[\"misc\"][\"vals\"][\"n_estimators\"][0] for x in tpe_trials.trials]})\n",
    "\n",
    "print (tpe_results)\n",
    "print (best_params)\n",
    "print (tpe_results.loc[:,\"F1\"].max())"
   ]
  },
  {
   "cell_type": "markdown",
   "metadata": {},
   "source": [
    "# Hyperopt trial value graphs by iteration"
   ]
  },
  {
   "cell_type": "code",
   "execution_count": 20,
   "metadata": {},
   "outputs": [
    {
     "data": {
      "image/png": "[encoded data removed]",
      "text/plain": [
       "<Figure size 432x288 with 1 Axes>"
      ]
     },
     "metadata": {},
     "output_type": "display_data"
    },
    {
     "data": {
      "image/png": "[encoded data removed]",
      "text/plain": [
       "<Figure size 432x288 with 1 Axes>"
      ]
     },
     "metadata": {},
     "output_type": "display_data"
    },
    {
     "data": {
      "image/png": "[encoded data removed]",
      "text/plain": [
       "<Figure size 432x288 with 1 Axes>"
      ]
     },
     "metadata": {},
     "output_type": "display_data"
    }
   ],
   "source": [
    "x = np.linspace(0,hyperopt_iterations,hyperopt_iterations)\n",
    "\n",
    "plt.scatter(tpe_results.loc[:,\"iteration\"], tpe_results.loc[:,\"max_dept\"])\n",
    "plt.title(\"max_dept\")\n",
    "plt.xlabel(\"iteration\")\n",
    "plt.ylabel(\"max_dept\")\n",
    "slope, intercept, r, p, std_err = stats.linregress(tpe_results.loc[:,\"iteration\"], tpe_results.loc[:,\"max_dept\"])\n",
    "plt.plot(x, slope*x+intercept, color = \"red\")\n",
    "plt.show()\n",
    "\n",
    "plt.scatter(tpe_results.loc[:,\"iteration\"], tpe_results.loc[:,\"n_estimators\"])\n",
    "plt.title(\"n_estimators\")\n",
    "plt.xlabel(\"iteration\")\n",
    "plt.ylabel(\"n_estimators\")\n",
    "slope, intercept, r, p, std_err = stats.linregress(tpe_results.loc[:,\"iteration\"], tpe_results.loc[:,\"n_estimators\"])\n",
    "plt.plot(x, slope*x+intercept, color = \"red\")\n",
    "plt.show()\n",
    "\n",
    "plt.scatter(tpe_results.loc[:,\"iteration\"], tpe_results.loc[:,\"F1\"])\n",
    "plt.title(\"F1\")\n",
    "plt.xlabel(\"iteration\")\n",
    "plt.ylabel(\"F1\")\n",
    "slope, intercept, r, p, std_err = stats.linregress(tpe_results.loc[:,\"iteration\"], tpe_results.loc[:,\"F1\"])\n",
    "plt.plot(x, slope*x+intercept, color = \"red\")\n",
    "plt.show()"
   ]
  },
  {
   "cell_type": "markdown",
   "metadata": {},
   "source": [
    "# Hyperopt trial value graphs by accuracy"
   ]
  },
  {
   "cell_type": "code",
   "execution_count": 21,
   "metadata": {},
   "outputs": [
    {
     "name": "stderr",
     "output_type": "stream",
     "text": [
      "C:\\Users\\ONTARIO\\Anaconda3\\lib\\site-packages\\ipykernel_launcher.py:5: DeprecationWarning: object of type <class 'numpy.float64'> cannot be safely interpreted as an integer.\n",
      "  \"\"\"\n"
     ]
    },
    {
     "data": {
      "image/png": "[encoded data removed]",
      "text/plain": [
       "<Figure size 432x288 with 1 Axes>"
      ]
     },
     "metadata": {},
     "output_type": "display_data"
    },
    {
     "name": "stderr",
     "output_type": "stream",
     "text": [
      "C:\\Users\\ONTARIO\\Anaconda3\\lib\\site-packages\\ipykernel_launcher.py:14: DeprecationWarning: object of type <class 'numpy.float64'> cannot be safely interpreted as an integer.\n",
      "  \n"
     ]
    },
    {
     "data": {
      "image/png": "[encoded data removed]",
      "text/plain": [
       "<Figure size 432x288 with 1 Axes>"
      ]
     },
     "metadata": {},
     "output_type": "display_data"
    },
    {
     "name": "stdout",
     "output_type": "stream",
     "text": [
      "F1                1.0\n",
      "iteration         0.0\n",
      "max_dept         18.0\n",
      "n_estimators    559.0\n",
      "Name: 0, dtype: float64\n"
     ]
    }
   ],
   "source": [
    "plt.scatter(tpe_results.loc[:,\"max_dept\"], tpe_results.loc[:,\"F1\"])\n",
    "plt.title(\"max_dept\")\n",
    "plt.ylabel(\"F1\")\n",
    "plt.xlabel(\"max_dept\")\n",
    "x = np.linspace(0, tpe_results.loc[:,\"max_dept\"].max(),tpe_results.loc[:,\"max_dept\"].max())\n",
    "slope, intercept, r, p, std_err = stats.linregress(tpe_results.loc[:,\"max_dept\"], tpe_results.loc[:,\"F1\"])\n",
    "plt.plot(x, slope*x+intercept, color = \"red\")\n",
    "plt.show()\n",
    "\n",
    "plt.scatter(tpe_results.loc[:,\"n_estimators\"], tpe_results.loc[:,\"F1\"])\n",
    "plt.title(\"n_estimators\")\n",
    "plt.ylabel(\"F1\")\n",
    "plt.xlabel(\"n_estimators\")\n",
    "x = np.linspace(0, tpe_results.loc[:,\"n_estimators\"].max(),tpe_results.loc[:,\"n_estimators\"].max())\n",
    "slope, intercept, r, p, std_err = stats.linregress(tpe_results.loc[:,\"n_estimators\"], tpe_results.loc[:,\"F1\"])\n",
    "plt.plot(x, slope*x+intercept, color = \"red\")\n",
    "plt.show()\n",
    "\n",
    "print(tpe_results.loc[tpe_results[\"F1\"].idxmax()])"
   ]
  },
  {
   "cell_type": "markdown",
   "metadata": {},
   "source": [
    "# Best Params"
   ]
  },
  {
   "cell_type": "code",
   "execution_count": 26,
   "metadata": {},
   "outputs": [
    {
     "name": "stdout",
     "output_type": "stream",
     "text": [
      "\t True\n",
      "\t +\t-\n",
      "pred\t+2720\t0\n",
      "\t-0\t15485\n",
      "PPV: 1.0\n",
      "NPV 1.0\n",
      "Average accuracy:  1.0\n",
      "Average training time:  5.501142072677612\n",
      "Average test time:  0.13050098419189454\n"
     ]
    }
   ],
   "source": [
    "final_params = copy.deepcopy(best_params)\n",
    "del final_params[\"max_dept\"]\n",
    "#final_params[\"max_depth\"] = round(best_params[\"max_dept\"])\n",
    "#final_params[\"n_estimators\"] = round(best_params[\"n_estimators\"])\n",
    "final_params[\"max_depth\"] = 22\n",
    "final_params[\"n_estimators\"] = 387\n",
    "\n",
    "model = RandomForestClassifier(**final_params)\n",
    "\n",
    "score = cross_validate(estimator= model, X = X_train, y = y_train.values.ravel(), cv = 10)\n",
    "avg_score = np.mean(score[\"test_score\"])\n",
    "train_time = np.mean(score[\"fit_time\"])\n",
    "test_time = np.mean(score[\"score_time\"])\n",
    "\n",
    "y_pred = cross_val_predict (model, X_test, y_test, cv = 10)\n",
    "tn, fp, fn, tp = confusion_matrix(y_test, y_pred).ravel()\n",
    "print (\"\\t True\")\n",
    "print (\"\\t +\\t-\")\n",
    "print (\"pred\\t+\" + str(tp) + \"\\t\" + str(fp))\n",
    "print (\"\\t-\" + str (fn) + \"\\t\" + str(tn))\n",
    "\n",
    "print (\"PPV:\", float(tp)/float(tp + fp))\n",
    "print (\"NPV\", float(tn)/float(tn + fn))\n",
    "\n",
    "print (\"Average accuracy: \", avg_score)\n",
    "print (\"Average training time: \", train_time)\n",
    "print (\"Average test time: \", test_time)"
   ]
  },
  {
   "cell_type": "code",
   "execution_count": 23,
   "metadata": {},
   "outputs": [],
   "source": [
    "import pickle\n",
    "\n",
    "pickle.dump(model, open(\"RandomForestModelF1.pkl\",\"wb\"))"
   ]
  },
  {
   "cell_type": "code",
   "execution_count": null,
   "metadata": {
    "collapsed": true
   },
   "outputs": [],
   "source": [
    "#print (X.loc[:, X.columns != \"Sex\"])\n",
    "#pd.plotting.scatter_matrix(X.loc[:, X.columns != \"Sex\"].loc[:,[\"Age_at_Exam\", \"sBP\", \"BMI\", \"LDL\", \"HDL\", \"A1c\", \"TG\", \"FBS\", \"DIABETES\"]])\n",
    "\n",
    "print(data.describe())\n",
    "data.hist()\n",
    "#data.groupby(\"DIABETES\").sBP.hist(alpha = 0.5)\n",
    "\"\"\"\n",
    "sbp = data.loc[:,[\"sBP\", \"DIABETES\"]]\n",
    "sbp1 = sbp.loc[sbp[\"DIABETES\"] == 0]\n",
    "sbp2 = sbp.loc[sbp[\"DIABETES\"] == 1]\n",
    "plt.hist(sbp1, alpha = 0.5)\n",
    "plt.hist(sbp2, alpha = 0.5)\n",
    "plt.show()\n",
    "\"\"\""
   ]
  },
  {
   "cell_type": "code",
   "execution_count": null,
   "metadata": {
    "collapsed": true
   },
   "outputs": [],
   "source": []
  }
 ],
 "metadata": {
  "kernelspec": {
   "display_name": "Python 3",
   "language": "python",
   "name": "python3"
  },
  "language_info": {
   "codemirror_mode": {
    "name": "ipython",
    "version": 3
   },
   "file_extension": ".py",
   "mimetype": "text/x-python",
   "name": "python",
   "nbconvert_exporter": "python",
   "pygments_lexer": "ipython3",
   "version": "3.6.5"
  }
 },
 "nbformat": 4,
 "nbformat_minor": 2
}
